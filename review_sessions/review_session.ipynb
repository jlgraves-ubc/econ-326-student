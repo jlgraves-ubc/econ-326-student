{
 "cells": [
  {
   "cell_type": "markdown",
   "metadata": {},
   "source": [
    "# Hands-On Review Session\n",
    "\n",
    "## Authors\n",
    "* Jonathan Graves (jonathan.graves@ubc.ca)\n",
    "\n",
    "## Outline\n",
    "\n",
    "In this review session, we will revisit and illustrate all of the most important practical skills from the previous five worksheets.\n",
    "\n",
    "* The goal will be to demonstrate specific econometric and data science skills using R, not the re-iterating the underlying econometric knowledge itself\n",
    "* We will also try to limit attention to just the most important techniques and procedures, rather than focusing on specific applications or examples.\n",
    "\n",
    "In this review, we will focus on the Census data used in the example\n",
    "\n",
    "<span id=\"fn1\">[<sup>1</sup>](#fn1s)Data is provided under the Statistics Canada Open License.  Adapted from Statistics Canada, 2016 Census Public Use Microdata File (PUMF). Individuals File, 2020-08-29. This does not constitute an endorsement by Statistics Canada of this product.</span>\n",
    "\n",
    "# Part 1: Basic Data Skills in R"
   ]
  },
  {
   "cell_type": "code",
   "execution_count": 20,
   "metadata": {},
   "outputs": [],
   "source": [
    "# loading packages and source files\n",
    "\n",
    "library(tidyverse)\n",
    "library(haven)\n",
    "library(car)\n",
    "library(lmtest)\n",
    "source(\"sandwich.r\")"
   ]
  },
  {
   "cell_type": "markdown",
   "metadata": {},
   "source": [
    "These are the most important packages for linear regression analysis in R:\n",
    "\n",
    "* ``tidyverse`` is general data manipulation and plotting\n",
    "* ``haven`` is advanced data loading and clean-up\n",
    "* ``car`` and ``lmtest`` provide a variety of tests and methods for regression models\n",
    "* ``sandwich`` estimates different kinds of standard errors\n",
    "* ``stargazer`` combines and tabulates regression results"
   ]
  },
  {
   "cell_type": "code",
   "execution_count": 21,
   "metadata": {},
   "outputs": [],
   "source": [
    "# loading data and assignment\n",
    "\n",
    "census_data <- read_dta(\"02_census2016.dta\")"
   ]
  },
  {
   "cell_type": "markdown",
   "metadata": {},
   "source": [
    "* The ``read_dta`` command is part of a family of command for different file types.  It reads in data in a particular format (``dta``) from a file (``02_census2016.dta``)\n",
    "* The basic format for most data in R is a **data frame**, which tabulates observations into rows and variables into columns\n",
    "* Data frames have a number of properties and functions; most importantly, you can access variables using the ``$`` operator\n",
    "\n",
    "* The ``<-`` operator assigns (stores) what is on the RHS into the variable name on the LHS\n",
    "  * This is actually (almost) the same as the operation ``=`` which (almost always) functions in the same way\n",
    "  * You will likely never encounter situation in which they are different\n",
    "* Variable names in R are case sensitive, and have a restricted set of characters (e.g. no spaces, ``&``, etc.)\n"
   ]
  },
  {
   "cell_type": "code",
   "execution_count": 23,
   "metadata": {},
   "outputs": [
    {
     "data": {
      "text/html": [
       "<table>\n",
       "<thead><tr><th scope=col>ppsort</th><th scope=col>agegrp</th><th scope=col>ageimm</th><th scope=col>cip2011</th><th scope=col>fol</th><th scope=col>hdgree</th><th scope=col>immstat</th><th scope=col>kol</th><th scope=col>lfact</th><th scope=col>locstud</th><th scope=col>mrkinc</th><th scope=col>pkids</th><th scope=col>pr</th><th scope=col>sex</th><th scope=col>vismin</th><th scope=col>wages</th></tr></thead>\n",
       "<tbody>\n",
       "\t<tr><td>453141</td><td>11    </td><td>99    </td><td> 8    </td><td>1     </td><td>4     </td><td>1     </td><td>1     </td><td>1     </td><td> 6    </td><td>97000 </td><td>1     </td><td>35    </td><td>2     </td><td>13    </td><td>95000 </td></tr>\n",
       "\t<tr><td>732612</td><td>12    </td><td>99    </td><td> 6    </td><td>1     </td><td>9     </td><td>1     </td><td>3     </td><td>1     </td><td> 6    </td><td>41000 </td><td>1     </td><td>35    </td><td>1     </td><td>13    </td><td>19000 </td></tr>\n",
       "\t<tr><td>143665</td><td>15    </td><td>99    </td><td> 5    </td><td>2     </td><td>6     </td><td>1     </td><td>3     </td><td>1     </td><td> 2    </td><td>30000 </td><td>0     </td><td>11    </td><td>1     </td><td>13    </td><td>29000 </td></tr>\n",
       "\t<tr><td> 52611</td><td>14    </td><td>99    </td><td>11    </td><td>2     </td><td>3     </td><td>1     </td><td>2     </td><td>1     </td><td> 5    </td><td>54000 </td><td>0     </td><td>24    </td><td>2     </td><td>13    </td><td>52000 </td></tr>\n",
       "\t<tr><td> 36927</td><td> 8    </td><td>99    </td><td>13    </td><td>1     </td><td>2     </td><td>1     </td><td>1     </td><td>1     </td><td>99    </td><td>27000 </td><td>1     </td><td>35    </td><td>2     </td><td>13    </td><td>27000 </td></tr>\n",
       "\t<tr><td>268123</td><td>11    </td><td>99    </td><td>13    </td><td>1     </td><td>2     </td><td>1     </td><td>1     </td><td>1     </td><td>99    </td><td>40000 </td><td>1     </td><td>35    </td><td>2     </td><td>13    </td><td>57000 </td></tr>\n",
       "</tbody>\n",
       "</table>\n"
      ],
      "text/latex": [
       "\\begin{tabular}{r|llllllllllllllll}\n",
       " ppsort & agegrp & ageimm & cip2011 & fol & hdgree & immstat & kol & lfact & locstud & mrkinc & pkids & pr & sex & vismin & wages\\\\\n",
       "\\hline\n",
       "\t 453141 & 11     & 99     &  8     & 1      & 4      & 1      & 1      & 1      &  6     & 97000  & 1      & 35     & 2      & 13     & 95000 \\\\\n",
       "\t 732612 & 12     & 99     &  6     & 1      & 9      & 1      & 3      & 1      &  6     & 41000  & 1      & 35     & 1      & 13     & 19000 \\\\\n",
       "\t 143665 & 15     & 99     &  5     & 2      & 6      & 1      & 3      & 1      &  2     & 30000  & 0      & 11     & 1      & 13     & 29000 \\\\\n",
       "\t  52611 & 14     & 99     & 11     & 2      & 3      & 1      & 2      & 1      &  5     & 54000  & 0      & 24     & 2      & 13     & 52000 \\\\\n",
       "\t  36927 &  8     & 99     & 13     & 1      & 2      & 1      & 1      & 1      & 99     & 27000  & 1      & 35     & 2      & 13     & 27000 \\\\\n",
       "\t 268123 & 11     & 99     & 13     & 1      & 2      & 1      & 1      & 1      & 99     & 40000  & 1      & 35     & 2      & 13     & 57000 \\\\\n",
       "\\end{tabular}\n"
      ],
      "text/markdown": [
       "\n",
       "| ppsort | agegrp | ageimm | cip2011 | fol | hdgree | immstat | kol | lfact | locstud | mrkinc | pkids | pr | sex | vismin | wages |\n",
       "|---|---|---|---|---|---|---|---|---|---|---|---|---|---|---|---|\n",
       "| 453141 | 11     | 99     |  8     | 1      | 4      | 1      | 1      | 1      |  6     | 97000  | 1      | 35     | 2      | 13     | 95000  |\n",
       "| 732612 | 12     | 99     |  6     | 1      | 9      | 1      | 3      | 1      |  6     | 41000  | 1      | 35     | 1      | 13     | 19000  |\n",
       "| 143665 | 15     | 99     |  5     | 2      | 6      | 1      | 3      | 1      |  2     | 30000  | 0      | 11     | 1      | 13     | 29000  |\n",
       "|  52611 | 14     | 99     | 11     | 2      | 3      | 1      | 2      | 1      |  5     | 54000  | 0      | 24     | 2      | 13     | 52000  |\n",
       "|  36927 |  8     | 99     | 13     | 1      | 2      | 1      | 1      | 1      | 99     | 27000  | 1      | 35     | 2      | 13     | 27000  |\n",
       "| 268123 | 11     | 99     | 13     | 1      | 2      | 1      | 1      | 1      | 99     | 40000  | 1      | 35     | 2      | 13     | 57000  |\n",
       "\n"
      ],
      "text/plain": [
       "  ppsort agegrp ageimm cip2011 fol hdgree immstat kol lfact locstud mrkinc\n",
       "1 453141 11     99      8      1   4      1       1   1      6      97000 \n",
       "2 732612 12     99      6      1   9      1       3   1      6      41000 \n",
       "3 143665 15     99      5      2   6      1       3   1      2      30000 \n",
       "4  52611 14     99     11      2   3      1       2   1      5      54000 \n",
       "5  36927  8     99     13      1   2      1       1   1     99      27000 \n",
       "6 268123 11     99     13      1   2      1       1   1     99      40000 \n",
       "  pkids pr sex vismin wages\n",
       "1 1     35 2   13     95000\n",
       "2 1     35 1   13     19000\n",
       "3 0     11 1   13     29000\n",
       "4 0     24 2   13     52000\n",
       "5 1     35 2   13     27000\n",
       "6 1     35 2   13     57000"
      ]
     },
     "metadata": {},
     "output_type": "display_data"
    },
    {
     "name": "stdout",
     "output_type": "stream",
     "text": [
      "Rows: 391,938\n",
      "Columns: 16\n",
      "$ ppsort  \u001b[3m\u001b[38;5;246m<dbl>\u001b[39m\u001b[23m 453141, 732612, 143665, 52611, 36927, 268123, 700087, 488335, ~\n",
      "$ agegrp  \u001b[3m\u001b[38;5;246m<dbl+lbl>\u001b[39m\u001b[23m 11, 12, 15, 14,  8, 11, 11, 11, 12,  8, 15, 11,  9, 14,  8~\n",
      "$ ageimm  \u001b[3m\u001b[38;5;246m<dbl+lbl>\u001b[39m\u001b[23m 99, 99, 99, 99, 99, 99, 99, 99, 99, 99, 99,  2, 99, 99, 99~\n",
      "$ cip2011 \u001b[3m\u001b[38;5;246m<dbl+lbl>\u001b[39m\u001b[23m  8,  6,  5, 11, 13, 13,  4, 13,  4, 13, 13,  7,  5, 13, 13~\n",
      "$ fol     \u001b[3m\u001b[38;5;246m<dbl+lbl>\u001b[39m\u001b[23m 1, 1, 2, 2, 1, 1, 1, 1, 1, 1, 1, 1, 1, 2, 1, 1, 1, 1, 2, 1~\n",
      "$ hdgree  \u001b[3m\u001b[38;5;246m<dbl+lbl>\u001b[39m\u001b[23m  4,  9,  6,  3,  2,  2,  9,  2,  7,  2,  2,  9,  7,  2,  2~\n",
      "$ immstat \u001b[3m\u001b[38;5;246m<dbl+lbl>\u001b[39m\u001b[23m 1, 1, 1, 1, 1, 1, 1, 1, 1, 1, 1, 2, 1, 1, 1, 1, 2, 2, 1, 1~\n",
      "$ kol     \u001b[3m\u001b[38;5;246m<dbl+lbl>\u001b[39m\u001b[23m 1, 3, 3, 2, 1, 1, 1, 1, 1, 1, 1, 1, 1, 2, 1, 1, 1, 1, 3, 1~\n",
      "$ lfact   \u001b[3m\u001b[38;5;246m<dbl+lbl>\u001b[39m\u001b[23m 1, 1, 1, 1, 1, 1, 1, 1, 1, 1, 1, 1, 1, 1, 1, 1, 1, 1, 1, 1~\n",
      "$ locstud \u001b[3m\u001b[38;5;246m<dbl+lbl>\u001b[39m\u001b[23m  6,  6,  2,  5, 99, 99,  6, 99,  6, 99, 99,  7,  7, 99, 99~\n",
      "$ mrkinc  \u001b[3m\u001b[38;5;246m<dbl>\u001b[39m\u001b[23m 97000, 41000, 30000, 54000, 27000, 40000, 69000, 56000, 3000, ~\n",
      "$ pkids   \u001b[3m\u001b[38;5;246m<dbl+lbl>\u001b[39m\u001b[23m 1, 1, 0, 0, 1, 1, 1, 1, 1, 1, 9, 1, 9, 9, 9, 1, 1, 1, 0, 1~\n",
      "$ pr      \u001b[3m\u001b[38;5;246m<dbl+lbl>\u001b[39m\u001b[23m 35, 35, 11, 24, 35, 35, 35, 10, 35, 35, 59, 59, 46, 24, 59~\n",
      "$ sex     \u001b[3m\u001b[38;5;246m<dbl+lbl>\u001b[39m\u001b[23m 2, 1, 1, 2, 2, 2, 1, 1, 1, 2, 1, 2, 2, 1, 1, 2, 2, 1, 2, 2~\n",
      "$ vismin  \u001b[3m\u001b[38;5;246m<dbl+lbl>\u001b[39m\u001b[23m 13, 13, 13, 13, 13, 13, 13, 13, 13, 13, 13, 12, 13, 13, 13~\n",
      "$ wages   \u001b[3m\u001b[38;5;246m<dbl>\u001b[39m\u001b[23m 95000, 19000, 29000, 52000, 27000, 57000, 70000, 55000, NA, 24~\n"
     ]
    },
    {
     "data": {
      "text/html": [
       "465269.075662477"
      ],
      "text/latex": [
       "465269.075662477"
      ],
      "text/markdown": [
       "465269.075662477"
      ],
      "text/plain": [
       "[1] 465269.1"
      ]
     },
     "metadata": {},
     "output_type": "display_data"
    },
    {
     "data": {
      "text/html": [
       "<table>\n",
       "<thead><tr><th scope=col>ppsort</th><th scope=col>agegrp</th><th scope=col>ageimm</th><th scope=col>cip2011</th><th scope=col>fol</th><th scope=col>hdgree</th><th scope=col>immstat</th><th scope=col>kol</th><th scope=col>lfact</th><th scope=col>locstud</th><th scope=col>mrkinc</th><th scope=col>pkids</th><th scope=col>pr</th><th scope=col>sex</th><th scope=col>vismin</th><th scope=col>wages</th></tr></thead>\n",
       "<tbody>\n",
       "\t<tr><td>732612</td><td>12    </td><td>99    </td><td> 6    </td><td>1     </td><td>9     </td><td>1     </td><td>3     </td><td>1     </td><td> 6    </td><td>41000 </td><td>1     </td><td>35    </td><td>1     </td><td>13    </td><td>19000 </td></tr>\n",
       "\t<tr><td>143665</td><td>15    </td><td>99    </td><td> 5    </td><td>2     </td><td>6     </td><td>1     </td><td>3     </td><td>1     </td><td> 2    </td><td>30000 </td><td>0     </td><td>11    </td><td>1     </td><td>13    </td><td>29000 </td></tr>\n",
       "\t<tr><td>700087</td><td>11    </td><td>99    </td><td> 4    </td><td>1     </td><td>9     </td><td>1     </td><td>1     </td><td>1     </td><td> 6    </td><td>69000 </td><td>1     </td><td>35    </td><td>1     </td><td>13    </td><td>70000 </td></tr>\n",
       "\t<tr><td>488335</td><td>11    </td><td>99    </td><td>13    </td><td>1     </td><td>2     </td><td>1     </td><td>1     </td><td>1     </td><td>99    </td><td>56000 </td><td>1     </td><td>10    </td><td>1     </td><td>13    </td><td>55000 </td></tr>\n",
       "\t<tr><td>871649</td><td>12    </td><td>99    </td><td> 4    </td><td>1     </td><td>7     </td><td>1     </td><td>1     </td><td>1     </td><td> 6    </td><td> 3000 </td><td>1     </td><td>35    </td><td>1     </td><td>13    </td><td>   NA </td></tr>\n",
       "\t<tr><td>584156</td><td>15    </td><td>99    </td><td>13    </td><td>1     </td><td>2     </td><td>1     </td><td>1     </td><td>1     </td><td>99    </td><td>42000 </td><td>9     </td><td>59    </td><td>1     </td><td>13    </td><td>11000 </td></tr>\n",
       "</tbody>\n",
       "</table>\n"
      ],
      "text/latex": [
       "\\begin{tabular}{r|llllllllllllllll}\n",
       " ppsort & agegrp & ageimm & cip2011 & fol & hdgree & immstat & kol & lfact & locstud & mrkinc & pkids & pr & sex & vismin & wages\\\\\n",
       "\\hline\n",
       "\t 732612 & 12     & 99     &  6     & 1      & 9      & 1      & 3      & 1      &  6     & 41000  & 1      & 35     & 1      & 13     & 19000 \\\\\n",
       "\t 143665 & 15     & 99     &  5     & 2      & 6      & 1      & 3      & 1      &  2     & 30000  & 0      & 11     & 1      & 13     & 29000 \\\\\n",
       "\t 700087 & 11     & 99     &  4     & 1      & 9      & 1      & 1      & 1      &  6     & 69000  & 1      & 35     & 1      & 13     & 70000 \\\\\n",
       "\t 488335 & 11     & 99     & 13     & 1      & 2      & 1      & 1      & 1      & 99     & 56000  & 1      & 10     & 1      & 13     & 55000 \\\\\n",
       "\t 871649 & 12     & 99     &  4     & 1      & 7      & 1      & 1      & 1      &  6     &  3000  & 1      & 35     & 1      & 13     &    NA \\\\\n",
       "\t 584156 & 15     & 99     & 13     & 1      & 2      & 1      & 1      & 1      & 99     & 42000  & 9      & 59     & 1      & 13     & 11000 \\\\\n",
       "\\end{tabular}\n"
      ],
      "text/markdown": [
       "\n",
       "| ppsort | agegrp | ageimm | cip2011 | fol | hdgree | immstat | kol | lfact | locstud | mrkinc | pkids | pr | sex | vismin | wages |\n",
       "|---|---|---|---|---|---|---|---|---|---|---|---|---|---|---|---|\n",
       "| 732612 | 12     | 99     |  6     | 1      | 9      | 1      | 3      | 1      |  6     | 41000  | 1      | 35     | 1      | 13     | 19000  |\n",
       "| 143665 | 15     | 99     |  5     | 2      | 6      | 1      | 3      | 1      |  2     | 30000  | 0      | 11     | 1      | 13     | 29000  |\n",
       "| 700087 | 11     | 99     |  4     | 1      | 9      | 1      | 1      | 1      |  6     | 69000  | 1      | 35     | 1      | 13     | 70000  |\n",
       "| 488335 | 11     | 99     | 13     | 1      | 2      | 1      | 1      | 1      | 99     | 56000  | 1      | 10     | 1      | 13     | 55000  |\n",
       "| 871649 | 12     | 99     |  4     | 1      | 7      | 1      | 1      | 1      |  6     |  3000  | 1      | 35     | 1      | 13     |    NA  |\n",
       "| 584156 | 15     | 99     | 13     | 1      | 2      | 1      | 1      | 1      | 99     | 42000  | 9      | 59     | 1      | 13     | 11000  |\n",
       "\n"
      ],
      "text/plain": [
       "  ppsort agegrp ageimm cip2011 fol hdgree immstat kol lfact locstud mrkinc\n",
       "1 732612 12     99      6      1   9      1       3   1      6      41000 \n",
       "2 143665 15     99      5      2   6      1       3   1      2      30000 \n",
       "3 700087 11     99      4      1   9      1       1   1      6      69000 \n",
       "4 488335 11     99     13      1   2      1       1   1     99      56000 \n",
       "5 871649 12     99      4      1   7      1       1   1      6       3000 \n",
       "6 584156 15     99     13      1   2      1       1   1     99      42000 \n",
       "  pkids pr sex vismin wages\n",
       "1 1     35 1   13     19000\n",
       "2 0     11 1   13     29000\n",
       "3 1     35 1   13     70000\n",
       "4 1     10 1   13     55000\n",
       "5 1     35 1   13        NA\n",
       "6 9     59 1   13     11000"
      ]
     },
     "metadata": {},
     "output_type": "display_data"
    }
   ],
   "source": [
    "# Inspecting and Pulling Data from Data Frames\n",
    "\n",
    "head(census_data)\n",
    "glimpse(census_data)\n",
    "\n",
    "mean(census_data$ppsort)\n",
    "\n",
    "head(filter(.data = census_data, sex == 1))\n",
    "#head(filter(.data = census_data, census_data$sex == 1)) #compare with the above"
   ]
  },
  {
   "cell_type": "markdown",
   "metadata": {},
   "source": [
    "* The ``head`` and ``glimpse`` commands both show the structure of the data and some common values\n",
    "* You can access columns of a data frame (the variables) with the ``$`` operator and the variable name\n",
    "  * Variable names are case sensitive\n",
    "  * These columns (variables) can then be used or acted on with other commands\n",
    "* Many functions which take data frames as a ``data = `` input do not require you to use the ``$`` command; this makes them easier to read.\n"
   ]
  },
  {
   "cell_type": "code",
   "execution_count": 24,
   "metadata": {},
   "outputs": [
    {
     "name": "stdout",
     "output_type": "stream",
     "text": [
      "Rows: 391,938\n",
      "Columns: 16\n",
      "$ ppsort  \u001b[3m\u001b[38;5;246m<dbl>\u001b[39m\u001b[23m 453141, 732612, 143665, 52611, 36927, 268123, 700087, 488335, ~\n",
      "$ agegrp  \u001b[3m\u001b[38;5;246m<fct>\u001b[39m\u001b[23m 35 to 39 years, 40 to 44 years, 55 to 59 years, 50 to 54 years~\n",
      "$ ageimm  \u001b[3m\u001b[38;5;246m<fct>\u001b[39m\u001b[23m not applicable, not applicable, not applicable, not applicable~\n",
      "$ cip2011 \u001b[3m\u001b[38;5;246m<fct>\u001b[39m\u001b[23m \"08 architecture, engineering, and related technologies\", \"06 ~\n",
      "$ fol     \u001b[3m\u001b[38;5;246m<fct>\u001b[39m\u001b[23m english only, english only, french only, french only, english ~\n",
      "$ hdgree  \u001b[3m\u001b[38;5;246m<fct>\u001b[39m\u001b[23m \"certificate of apprenticeship or certificate of qualification~\n",
      "$ immstat \u001b[3m\u001b[38;5;246m<fct>\u001b[39m\u001b[23m non-immigrants, non-immigrants, non-immigrants, non-immigrants~\n",
      "$ kol     \u001b[3m\u001b[38;5;246m<fct>\u001b[39m\u001b[23m english only, both english and french, both english and french~\n",
      "$ lfact   \u001b[3m\u001b[38;5;246m<fct>\u001b[39m\u001b[23m employed - worked in reference week, employed - worked in refe~\n",
      "$ locstud \u001b[3m\u001b[38;5;246m<fct>\u001b[39m\u001b[23m ontario, ontario, prince edward island, quebec, not applicable~\n",
      "$ mrkinc  \u001b[3m\u001b[38;5;246m<dbl>\u001b[39m\u001b[23m 97000, 41000, 30000, 54000, 27000, 40000, 69000, 56000, 3000, ~\n",
      "$ pkids   \u001b[3m\u001b[38;5;246m<fct>\u001b[39m\u001b[23m one or more, one or more, none, none, one or more, one or more~\n",
      "$ pr      \u001b[3m\u001b[38;5;246m<fct>\u001b[39m\u001b[23m ontario, ontario, prince edward island, quebec, ontario, ontar~\n",
      "$ sex     \u001b[3m\u001b[38;5;246m<fct>\u001b[39m\u001b[23m male, female, female, male, male, male, female, female, female~\n",
      "$ vismin  \u001b[3m\u001b[38;5;246m<fct>\u001b[39m\u001b[23m \"not a visible minority\", \"not a visible minority\", \"not a vis~\n",
      "$ wages   \u001b[3m\u001b[38;5;246m<dbl>\u001b[39m\u001b[23m 95000, 19000, 29000, 52000, 27000, 57000, 70000, 55000, NA, 24~\n"
     ]
    }
   ],
   "source": [
    "# factor variables\n",
    "\n",
    "census_data <- as_factor(census_data)\n",
    "\n",
    "glimpse(census_data)\n"
   ]
  },
  {
   "cell_type": "markdown",
   "metadata": {},
   "source": [
    "Qualitative variables in R are referred to as _factor variables_\n",
    "\n",
    "* R needs to be informed which variables are factors\n",
    "* This can be done using the ``as_factor()`` command\n",
    "    * In the example above, it operates on the whole data frame using the contextual information from the underlying ``.dta'' \n",
    "    * In general, you will specify which variables should be factors and which ones should not be\n",
    "* You can also adjust factors and manipulate them with functions like ``relevel()``"
   ]
  },
  {
   "cell_type": "code",
   "execution_count": 25,
   "metadata": {},
   "outputs": [
    {
     "data": {
      "text/html": [
       "<table>\n",
       "<thead><tr><th scope=col>ppsort</th><th scope=col>agegrp</th><th scope=col>ageimm</th><th scope=col>cip2011</th><th scope=col>fol</th><th scope=col>hdgree</th><th scope=col>immstat</th><th scope=col>kol</th><th scope=col>lfact</th><th scope=col>locstud</th><th scope=col>mrkinc</th><th scope=col>pkids</th><th scope=col>pr</th><th scope=col>sex</th><th scope=col>vismin</th><th scope=col>wages</th></tr></thead>\n",
       "<tbody>\n",
       "\t<tr><td>732612                                                                                         </td><td>40 to 44 years                                                                                 </td><td>not applicable                                                                                 </td><td>06 physical and life sciences and technologies                                                 </td><td>english only                                                                                   </td><td>bachelor's degree                                                                              </td><td>non-immigrants                                                                                 </td><td>both english and french                                                                        </td><td>employed - worked in reference week                                                            </td><td>ontario                                                                                        </td><td>41000                                                                                          </td><td>one or more                                                                                    </td><td>ontario                                                                                        </td><td>female                                                                                         </td><td>not a visible minority                                                                         </td><td>19000                                                                                          </td></tr>\n",
       "\t<tr><td>143665                                                                                         </td><td>55 to 59 years                                                                                 </td><td>not applicable                                                                                 </td><td>05 business, management and public administration                                              </td><td>french only                                                                                    </td><td>program of 1 to 2 years (college, cegep and other non-university certificates or diplomas)     </td><td>non-immigrants                                                                                 </td><td>both english and french                                                                        </td><td>employed - worked in reference week                                                            </td><td>prince edward island                                                                           </td><td>30000                                                                                          </td><td>none                                                                                           </td><td>prince edward island                                                                           </td><td>female                                                                                         </td><td>not a visible minority                                                                         </td><td>29000                                                                                          </td></tr>\n",
       "\t<tr><td>700087                                                                                         </td><td>35 to 39 years                                                                                 </td><td>not applicable                                                                                 </td><td>04 social and behavioural sciences and law                                                     </td><td>english only                                                                                   </td><td>bachelor's degree                                                                              </td><td>non-immigrants                                                                                 </td><td>english only                                                                                   </td><td>employed - worked in reference week                                                            </td><td>ontario                                                                                        </td><td>69000                                                                                          </td><td>one or more                                                                                    </td><td>ontario                                                                                        </td><td>female                                                                                         </td><td>not a visible minority                                                                         </td><td>70000                                                                                          </td></tr>\n",
       "\t<tr><td>488335                                                                                         </td><td>35 to 39 years                                                                                 </td><td>not applicable                                                                                 </td><td>no postsecondary certificate, diploma or degree                                                </td><td>english only                                                                                   </td><td>secondary (high) school diploma or equivalency certificate                                     </td><td>non-immigrants                                                                                 </td><td>english only                                                                                   </td><td>employed - worked in reference week                                                            </td><td>not applicable                                                                                 </td><td>56000                                                                                          </td><td>one or more                                                                                    </td><td>newfoundland and labrador                                                                      </td><td>female                                                                                         </td><td>not a visible minority                                                                         </td><td>55000                                                                                          </td></tr>\n",
       "\t<tr><td>871649                                                                                         </td><td>40 to 44 years                                                                                 </td><td>not applicable                                                                                 </td><td>04 social and behavioural sciences and law                                                     </td><td>english only                                                                                   </td><td>program of more than 2 years (college, cegep and other non-university certificates or diplomas)</td><td>non-immigrants                                                                                 </td><td>english only                                                                                   </td><td>employed - worked in reference week                                                            </td><td>ontario                                                                                        </td><td> 3000                                                                                          </td><td>one or more                                                                                    </td><td>ontario                                                                                        </td><td>female                                                                                         </td><td>not a visible minority                                                                         </td><td>   NA                                                                                          </td></tr>\n",
       "\t<tr><td>584156                                                                                         </td><td>55 to 59 years                                                                                 </td><td>not applicable                                                                                 </td><td>no postsecondary certificate, diploma or degree                                                </td><td>english only                                                                                   </td><td>secondary (high) school diploma or equivalency certificate                                     </td><td>non-immigrants                                                                                 </td><td>english only                                                                                   </td><td>employed - worked in reference week                                                            </td><td>not applicable                                                                                 </td><td>42000                                                                                          </td><td>not applicable                                                                                 </td><td>british columbia                                                                               </td><td>female                                                                                         </td><td>not a visible minority                                                                         </td><td>11000                                                                                          </td></tr>\n",
       "</tbody>\n",
       "</table>\n"
      ],
      "text/latex": [
       "\\begin{tabular}{r|llllllllllllllll}\n",
       " ppsort & agegrp & ageimm & cip2011 & fol & hdgree & immstat & kol & lfact & locstud & mrkinc & pkids & pr & sex & vismin & wages\\\\\n",
       "\\hline\n",
       "\t 732612                                                                                          & 40 to 44 years                                                                                  & not applicable                                                                                  & 06 physical and life sciences and technologies                                                  & english only                                                                                    & bachelor's degree                                                                               & non-immigrants                                                                                  & both english and french                                                                         & employed - worked in reference week                                                             & ontario                                                                                         & 41000                                                                                           & one or more                                                                                     & ontario                                                                                         & female                                                                                          & not a visible minority                                                                          & 19000                                                                                          \\\\\n",
       "\t 143665                                                                                          & 55 to 59 years                                                                                  & not applicable                                                                                  & 05 business, management and public administration                                               & french only                                                                                     & program of 1 to 2 years (college, cegep and other non-university certificates or diplomas)      & non-immigrants                                                                                  & both english and french                                                                         & employed - worked in reference week                                                             & prince edward island                                                                            & 30000                                                                                           & none                                                                                            & prince edward island                                                                            & female                                                                                          & not a visible minority                                                                          & 29000                                                                                          \\\\\n",
       "\t 700087                                                                                          & 35 to 39 years                                                                                  & not applicable                                                                                  & 04 social and behavioural sciences and law                                                      & english only                                                                                    & bachelor's degree                                                                               & non-immigrants                                                                                  & english only                                                                                    & employed - worked in reference week                                                             & ontario                                                                                         & 69000                                                                                           & one or more                                                                                     & ontario                                                                                         & female                                                                                          & not a visible minority                                                                          & 70000                                                                                          \\\\\n",
       "\t 488335                                                                                          & 35 to 39 years                                                                                  & not applicable                                                                                  & no postsecondary certificate, diploma or degree                                                 & english only                                                                                    & secondary (high) school diploma or equivalency certificate                                      & non-immigrants                                                                                  & english only                                                                                    & employed - worked in reference week                                                             & not applicable                                                                                  & 56000                                                                                           & one or more                                                                                     & newfoundland and labrador                                                                       & female                                                                                          & not a visible minority                                                                          & 55000                                                                                          \\\\\n",
       "\t 871649                                                                                          & 40 to 44 years                                                                                  & not applicable                                                                                  & 04 social and behavioural sciences and law                                                      & english only                                                                                    & program of more than 2 years (college, cegep and other non-university certificates or diplomas) & non-immigrants                                                                                  & english only                                                                                    & employed - worked in reference week                                                             & ontario                                                                                         &  3000                                                                                           & one or more                                                                                     & ontario                                                                                         & female                                                                                          & not a visible minority                                                                          &    NA                                                                                          \\\\\n",
       "\t 584156                                                                                          & 55 to 59 years                                                                                  & not applicable                                                                                  & no postsecondary certificate, diploma or degree                                                 & english only                                                                                    & secondary (high) school diploma or equivalency certificate                                      & non-immigrants                                                                                  & english only                                                                                    & employed - worked in reference week                                                             & not applicable                                                                                  & 42000                                                                                           & not applicable                                                                                  & british columbia                                                                                & female                                                                                          & not a visible minority                                                                          & 11000                                                                                          \\\\\n",
       "\\end{tabular}\n"
      ],
      "text/markdown": [
       "\n",
       "| ppsort | agegrp | ageimm | cip2011 | fol | hdgree | immstat | kol | lfact | locstud | mrkinc | pkids | pr | sex | vismin | wages |\n",
       "|---|---|---|---|---|---|---|---|---|---|---|---|---|---|---|---|\n",
       "| 732612                                                                                          | 40 to 44 years                                                                                  | not applicable                                                                                  | 06 physical and life sciences and technologies                                                  | english only                                                                                    | bachelor's degree                                                                               | non-immigrants                                                                                  | both english and french                                                                         | employed - worked in reference week                                                             | ontario                                                                                         | 41000                                                                                           | one or more                                                                                     | ontario                                                                                         | female                                                                                          | not a visible minority                                                                          | 19000                                                                                           |\n",
       "| 143665                                                                                          | 55 to 59 years                                                                                  | not applicable                                                                                  | 05 business, management and public administration                                               | french only                                                                                     | program of 1 to 2 years (college, cegep and other non-university certificates or diplomas)      | non-immigrants                                                                                  | both english and french                                                                         | employed - worked in reference week                                                             | prince edward island                                                                            | 30000                                                                                           | none                                                                                            | prince edward island                                                                            | female                                                                                          | not a visible minority                                                                          | 29000                                                                                           |\n",
       "| 700087                                                                                          | 35 to 39 years                                                                                  | not applicable                                                                                  | 04 social and behavioural sciences and law                                                      | english only                                                                                    | bachelor's degree                                                                               | non-immigrants                                                                                  | english only                                                                                    | employed - worked in reference week                                                             | ontario                                                                                         | 69000                                                                                           | one or more                                                                                     | ontario                                                                                         | female                                                                                          | not a visible minority                                                                          | 70000                                                                                           |\n",
       "| 488335                                                                                          | 35 to 39 years                                                                                  | not applicable                                                                                  | no postsecondary certificate, diploma or degree                                                 | english only                                                                                    | secondary (high) school diploma or equivalency certificate                                      | non-immigrants                                                                                  | english only                                                                                    | employed - worked in reference week                                                             | not applicable                                                                                  | 56000                                                                                           | one or more                                                                                     | newfoundland and labrador                                                                       | female                                                                                          | not a visible minority                                                                          | 55000                                                                                           |\n",
       "| 871649                                                                                          | 40 to 44 years                                                                                  | not applicable                                                                                  | 04 social and behavioural sciences and law                                                      | english only                                                                                    | program of more than 2 years (college, cegep and other non-university certificates or diplomas) | non-immigrants                                                                                  | english only                                                                                    | employed - worked in reference week                                                             | ontario                                                                                         |  3000                                                                                           | one or more                                                                                     | ontario                                                                                         | female                                                                                          | not a visible minority                                                                          |    NA                                                                                           |\n",
       "| 584156                                                                                          | 55 to 59 years                                                                                  | not applicable                                                                                  | no postsecondary certificate, diploma or degree                                                 | english only                                                                                    | secondary (high) school diploma or equivalency certificate                                      | non-immigrants                                                                                  | english only                                                                                    | employed - worked in reference week                                                             | not applicable                                                                                  | 42000                                                                                           | not applicable                                                                                  | british columbia                                                                                | female                                                                                          | not a visible minority                                                                          | 11000                                                                                           |\n",
       "\n"
      ],
      "text/plain": [
       "  ppsort agegrp         ageimm        \n",
       "1 732612 40 to 44 years not applicable\n",
       "2 143665 55 to 59 years not applicable\n",
       "3 700087 35 to 39 years not applicable\n",
       "4 488335 35 to 39 years not applicable\n",
       "5 871649 40 to 44 years not applicable\n",
       "6 584156 55 to 59 years not applicable\n",
       "  cip2011                                           fol         \n",
       "1 06 physical and life sciences and technologies    english only\n",
       "2 05 business, management and public administration french only \n",
       "3 04 social and behavioural sciences and law        english only\n",
       "4 no postsecondary certificate, diploma or degree   english only\n",
       "5 04 social and behavioural sciences and law        english only\n",
       "6 no postsecondary certificate, diploma or degree   english only\n",
       "  hdgree                                                                                         \n",
       "1 bachelor's degree                                                                              \n",
       "2 program of 1 to 2 years (college, cegep and other non-university certificates or diplomas)     \n",
       "3 bachelor's degree                                                                              \n",
       "4 secondary (high) school diploma or equivalency certificate                                     \n",
       "5 program of more than 2 years (college, cegep and other non-university certificates or diplomas)\n",
       "6 secondary (high) school diploma or equivalency certificate                                     \n",
       "  immstat        kol                     lfact                              \n",
       "1 non-immigrants both english and french employed - worked in reference week\n",
       "2 non-immigrants both english and french employed - worked in reference week\n",
       "3 non-immigrants english only            employed - worked in reference week\n",
       "4 non-immigrants english only            employed - worked in reference week\n",
       "5 non-immigrants english only            employed - worked in reference week\n",
       "6 non-immigrants english only            employed - worked in reference week\n",
       "  locstud              mrkinc pkids          pr                        sex   \n",
       "1 ontario              41000  one or more    ontario                   female\n",
       "2 prince edward island 30000  none           prince edward island      female\n",
       "3 ontario              69000  one or more    ontario                   female\n",
       "4 not applicable       56000  one or more    newfoundland and labrador female\n",
       "5 ontario               3000  one or more    ontario                   female\n",
       "6 not applicable       42000  not applicable british columbia          female\n",
       "  vismin                 wages\n",
       "1 not a visible minority 19000\n",
       "2 not a visible minority 29000\n",
       "3 not a visible minority 70000\n",
       "4 not a visible minority 55000\n",
       "5 not a visible minority    NA\n",
       "6 not a visible minority 11000"
      ]
     },
     "metadata": {},
     "output_type": "display_data"
    }
   ],
   "source": [
    "# data frame manipulation\n",
    "\n",
    "head(filter(.data = census_data, sex == \"female\"))\n",
    "\n",
    "census_data <- filter(census_data, !is.na(census_data$wages))\n",
    "census_data <- filter(census_data, !is.na(census_data$mrkinc))"
   ]
  },
  {
   "cell_type": "markdown",
   "metadata": {},
   "source": [
    "* You can select subsets of a data frame by using the ``filter`` command\n",
    "  * This takes in data, then applies a condition - keeping only observations which meet the logical condition (``sex == 1``, in the example above)\n",
    "  \n",
    "* An important operation is the remove NA data (missing data).  This can be done with ``filter`` and the ``is.na()`` function."
   ]
  },
  {
   "cell_type": "code",
   "execution_count": 26,
   "metadata": {},
   "outputs": [
    {
     "name": "stdout",
     "output_type": "stream",
     "text": [
      "Rows: 343,063\n",
      "Columns: 18\n",
      "$ ppsort         \u001b[3m\u001b[38;5;246m<dbl>\u001b[39m\u001b[23m 453141, 732612, 143665, 52611, 36927, 268123, 700087, 4~\n",
      "$ agegrp         \u001b[3m\u001b[38;5;246m<fct>\u001b[39m\u001b[23m 35 to 39 years, 40 to 44 years, 55 to 59 years, 50 to 5~\n",
      "$ ageimm         \u001b[3m\u001b[38;5;246m<fct>\u001b[39m\u001b[23m not applicable, not applicable, not applicable, not app~\n",
      "$ cip2011        \u001b[3m\u001b[38;5;246m<fct>\u001b[39m\u001b[23m \"08 architecture, engineering, and related technologies~\n",
      "$ fol            \u001b[3m\u001b[38;5;246m<fct>\u001b[39m\u001b[23m english only, english only, french only, french only, e~\n",
      "$ hdgree         \u001b[3m\u001b[38;5;246m<fct>\u001b[39m\u001b[23m \"certificate of apprenticeship or certificate of qualif~\n",
      "$ immstat        \u001b[3m\u001b[38;5;246m<fct>\u001b[39m\u001b[23m non-immigrants, non-immigrants, non-immigrants, non-imm~\n",
      "$ kol            \u001b[3m\u001b[38;5;246m<fct>\u001b[39m\u001b[23m english only, both english and french, both english and~\n",
      "$ lfact          \u001b[3m\u001b[38;5;246m<fct>\u001b[39m\u001b[23m employed - worked in reference week, employed - worked ~\n",
      "$ locstud        \u001b[3m\u001b[38;5;246m<fct>\u001b[39m\u001b[23m ontario, ontario, prince edward island, quebec, not app~\n",
      "$ mrkinc         \u001b[3m\u001b[38;5;246m<dbl>\u001b[39m\u001b[23m 97000, 41000, 30000, 54000, 27000, 40000, 69000, 56000,~\n",
      "$ pkids          \u001b[3m\u001b[38;5;246m<fct>\u001b[39m\u001b[23m one or more, one or more, none, none, one or more, one ~\n",
      "$ pr             \u001b[3m\u001b[38;5;246m<fct>\u001b[39m\u001b[23m ontario, ontario, prince edward island, quebec, ontario~\n",
      "$ sex            \u001b[3m\u001b[38;5;246m<fct>\u001b[39m\u001b[23m male, female, female, male, male, male, female, female,~\n",
      "$ vismin         \u001b[3m\u001b[38;5;246m<fct>\u001b[39m\u001b[23m \"not a visible minority\", \"not a visible minority\", \"no~\n",
      "$ wages          \u001b[3m\u001b[38;5;246m<dbl>\u001b[39m\u001b[23m 95000, 19000, 29000, 52000, 27000, 57000, 70000, 55000,~\n",
      "$ log_wages      \u001b[3m\u001b[38;5;246m<dbl>\u001b[39m\u001b[23m 11.461632, 9.852194, 10.275051, 10.858999, 10.203592, 1~\n",
      "$ speaks_english \u001b[3m\u001b[38;5;246m<fct>\u001b[39m\u001b[23m Yes, Yes, No, No, Yes, Yes, Yes, Yes, Yes, Yes, Yes, Ye~\n"
     ]
    }
   ],
   "source": [
    "# creating new variables\n",
    "\n",
    "census_data <- census_data %>%\n",
    "                mutate(log_wages = log(wages))\n",
    "\n",
    "census_data <- census_data %>% \n",
    "               mutate( \n",
    "               speaks_english = case_when(#this is an example of this function\n",
    "                     fol == \"both english and french\" ~ \"Yes\", #the ~ seperates the original from the new name\n",
    "                     fol == \"english only\" ~ \"Yes\",\n",
    "                     fol == \"french only\" ~ \"No\",\n",
    "                     fol == \"neither english nor french\" ~ \"No\")) %>%\n",
    "             mutate(speaks_english = as_factor(speaks_english)) #remember, it's a factor!\n",
    "\n",
    "glimpse(census_data)"
   ]
  },
  {
   "cell_type": "markdown",
   "metadata": {},
   "source": [
    "New variables can be added to a data frame using  the ``mutate`` function.  These examples show adding a quantiative variable, which is a function (``log``) of wages, and a qualitative variable.  Note the declaration of the variable as a factor.\n",
    "* you can see the use of the important ``case_when`` function, which creates values of a new variable based on the values of other variables"
   ]
  },
  {
   "cell_type": "markdown",
   "metadata": {},
   "source": [
    "# Part 2: Basic Descriptive Statistics and Plots\n"
   ]
  },
  {
   "cell_type": "code",
   "execution_count": 27,
   "metadata": {},
   "outputs": [
    {
     "data": {
      "text/html": [
       "<table>\n",
       "<thead><tr><th scope=col>fol</th><th scope=col>m_wage</th><th scope=col>sd_wage</th><th scope=col>n</th></tr></thead>\n",
       "<tbody>\n",
       "\t<tr><td>english only              </td><td>56750.78                  </td><td>68817.71                  </td><td>260003                    </td></tr>\n",
       "\t<tr><td>french only               </td><td>48075.02                  </td><td>47008.17                  </td><td> 77416                    </td></tr>\n",
       "\t<tr><td>both english and french   </td><td>43849.62                  </td><td>45576.58                  </td><td>  3701                    </td></tr>\n",
       "\t<tr><td>neither english nor french</td><td>26505.04                  </td><td>19622.19                  </td><td>  1943                    </td></tr>\n",
       "</tbody>\n",
       "</table>\n"
      ],
      "text/latex": [
       "\\begin{tabular}{r|llll}\n",
       " fol & m\\_wage & sd\\_wage & n\\\\\n",
       "\\hline\n",
       "\t english only               & 56750.78                   & 68817.71                   & 260003                    \\\\\n",
       "\t french only                & 48075.02                   & 47008.17                   &  77416                    \\\\\n",
       "\t both english and french    & 43849.62                   & 45576.58                   &   3701                    \\\\\n",
       "\t neither english nor french & 26505.04                   & 19622.19                   &   1943                    \\\\\n",
       "\\end{tabular}\n"
      ],
      "text/markdown": [
       "\n",
       "| fol | m_wage | sd_wage | n |\n",
       "|---|---|---|---|\n",
       "| english only               | 56750.78                   | 68817.71                   | 260003                     |\n",
       "| french only                | 48075.02                   | 47008.17                   |  77416                     |\n",
       "| both english and french    | 43849.62                   | 45576.58                   |   3701                     |\n",
       "| neither english nor french | 26505.04                   | 19622.19                   |   1943                     |\n",
       "\n"
      ],
      "text/plain": [
       "  fol                        m_wage   sd_wage  n     \n",
       "1 english only               56750.78 68817.71 260003\n",
       "2 french only                48075.02 47008.17  77416\n",
       "3 both english and french    43849.62 45576.58   3701\n",
       "4 neither english nor french 26505.04 19622.19   1943"
      ]
     },
     "metadata": {},
     "output_type": "display_data"
    }
   ],
   "source": [
    "# tables of summary statistics\n",
    "\n",
    "results <- \n",
    "    census_data %>%\n",
    "    group_by(fol) %>%\n",
    "    summarize(m_wage = mean(wages), sd_wage = sd(wages), n = n())\n",
    "\n",
    "results\n",
    "\n"
   ]
  },
  {
   "cell_type": "markdown",
   "metadata": {},
   "source": [
    "You can create tables of summary statistics using the ``group_by`` and ``summarize`` commands\n",
    "* The ``summarize`` command is followed by a series of sub-commands, specifying which descriptive statistics you want\n",
    "* The example demonstrates ``mean``, ``sd``, and ``n`` for mean, standard deviation, and count (respectively)"
   ]
  },
  {
   "cell_type": "code",
   "execution_count": 28,
   "metadata": {},
   "outputs": [
    {
     "data": {
      "text/plain": [
       "\n",
       "\tWelch Two Sample t-test\n",
       "\n",
       "data:  filter(census_data, immstat == \"immigrants\")$wages and filter(census_data, immstat == \"non-immigrants\")$wages\n",
       "t = -9.9037, df = 130747, p-value < 2.2e-16\n",
       "alternative hypothesis: true difference in means is not equal to 0\n",
       "95 percent confidence interval:\n",
       " -3058.112 -2047.655\n",
       "sample estimates:\n",
       "mean of x mean of y \n",
       " 52511.52  55064.40 \n"
      ]
     },
     "metadata": {},
     "output_type": "display_data"
    },
    {
     "data": {
      "text/html": [
       "<strong>mean of x:</strong> -2552.88"
      ],
      "text/latex": [
       "\\textbf{mean of x:} -2552.88"
      ],
      "text/markdown": [
       "**mean of x:** -2552.88"
      ],
      "text/plain": [
       "mean of x \n",
       " -2552.88 "
      ]
     },
     "metadata": {},
     "output_type": "display_data"
    }
   ],
   "source": [
    "# t-tests\n",
    "\n",
    "t2 = t.test(\n",
    "       x = filter(census_data, immstat == \"immigrants\")$wages,\n",
    "       y = filter(census_data, immstat == \"non-immigrants\")$wages,\n",
    "       alternative = \"two.sided\",\n",
    "       mu = 0,\n",
    "       conf.level = 0.95)\n",
    "\n",
    "t2 #test for the wage gap in english data\n",
    "\n",
    "round(t2$estimate[1] - t2$estimate[2],2)"
   ]
  },
  {
   "cell_type": "markdown",
   "metadata": {},
   "source": [
    "$t$-tests in R can be performed using the ``t.test`` command and ``filter``.\n",
    "* This command must have the variables passed directly (using ``$``, since it does not take a data input)\n",
    "* You can access a variety of features of the test from the object (``t2``, above)"
   ]
  },
  {
   "cell_type": "code",
   "execution_count": 29,
   "metadata": {},
   "outputs": [
    {
     "data": {
      "image/png": "[encoded data removed]",
      "text/plain": [
       "plot without title"
      ]
     },
     "metadata": {},
     "output_type": "display_data"
    }
   ],
   "source": [
    "# plotting\n",
    "\n",
    "f <- ggplot(data = census_data, aes(x = immstat, y = wages)) + xlab(\"Immigration Status\") + ylab(\"Wages\")\n",
    "f <- f + geom_bar(stat = \"summary\", fun = \"mean\", fill = \"lightblue\") #produce a summary statistic, the mean\n",
    "f <- f + facet_grid(. ~ speaks_english) #add a grid by language\n",
    "\n",
    "f"
   ]
  },
  {
   "cell_type": "markdown",
   "metadata": {},
   "source": [
    "You don't need to know too much about plotting in this course (although it's good to learn).\n",
    "* The important part of the plot is the ``aes`` (aesthetic) element.  This defines which variables map to the different components of the visualization\n",
    "* For bar charts and scatterplots, it's ``aes(x = , y = )`` which refer to the $x$ and $y$ axis variables, respectively.\n",
    "\n",
    "# Part 3: Simple and Multiple Regression"
   ]
  },
  {
   "cell_type": "code",
   "execution_count": 32,
   "metadata": {},
   "outputs": [
    {
     "data": {
      "text/html": [
       "<dl class=dl-horizontal>\n",
       "\t<dt>(Intercept)</dt>\n",
       "\t\t<dd>11142.2595684639</dd>\n",
       "\t<dt>immstatimmigrants</dt>\n",
       "\t\t<dd>-324.124203542075</dd>\n",
       "\t<dt>sexmale</dt>\n",
       "\t\t<dd>4199.51387293337</dd>\n",
       "\t<dt>mrkinc</dt>\n",
       "\t\t<dd>0.67809973704287</dd>\n",
       "</dl>\n"
      ],
      "text/latex": [
       "\\begin{description*}\n",
       "\\item[(Intercept)] 11142.2595684639\n",
       "\\item[immstatimmigrants] -324.124203542075\n",
       "\\item[sexmale] 4199.51387293337\n",
       "\\item[mrkinc] 0.67809973704287\n",
       "\\end{description*}\n"
      ],
      "text/markdown": [
       "(Intercept)\n",
       ":   11142.2595684639immstatimmigrants\n",
       ":   -324.124203542075sexmale\n",
       ":   4199.51387293337mrkinc\n",
       ":   0.67809973704287\n",
       "\n"
      ],
      "text/plain": [
       "      (Intercept) immstatimmigrants           sexmale            mrkinc \n",
       "    11142.2595685      -324.1242035      4199.5138729         0.6780997 "
      ]
     },
     "metadata": {},
     "output_type": "display_data"
    },
    {
     "data": {
      "text/html": [
       "8.90605233518338e-13"
      ],
      "text/latex": [
       "8.90605233518338e-13"
      ],
      "text/markdown": [
       "8.90605233518338e-13"
      ],
      "text/plain": [
       "[1] 8.906052e-13"
      ]
     },
     "metadata": {},
     "output_type": "display_data"
    },
    {
     "data": {
      "text/plain": [
       "\n",
       "Call:\n",
       "lm(formula = wages ~ immstat + sex + immstat:sex + mrkinc, data = census_data)\n",
       "\n",
       "Residuals:\n",
       "     Min       1Q   Median       3Q      Max \n",
       "-1105985    -7364     -142     8262   379170 \n",
       "\n",
       "Coefficients:\n",
       "                            Estimate Std. Error  t value Pr(>|t|)    \n",
       "(Intercept)                1.105e+04  8.674e+01  127.417  < 2e-16 ***\n",
       "immstatimmigrants          7.448e+01  1.716e+02    0.434  0.66423    \n",
       "sexmale                    4.375e+03  1.148e+02   38.122  < 2e-16 ***\n",
       "mrkinc                     6.781e-01  6.020e-04 1126.396  < 2e-16 ***\n",
       "immstatimmigrants:sexmale -7.686e+02  2.383e+02   -3.226  0.00126 ** \n",
       "---\n",
       "Signif. codes:  0 '***' 0.001 '**' 0.01 '*' 0.05 '.' 0.1 ' ' 1\n",
       "\n",
       "Residual standard error: 29250 on 343058 degrees of freedom\n",
       "Multiple R-squared:  0.7929,\tAdjusted R-squared:  0.7929 \n",
       "F-statistic: 3.284e+05 on 4 and 343058 DF,  p-value: < 2.2e-16\n"
      ]
     },
     "metadata": {},
     "output_type": "display_data"
    }
   ],
   "source": [
    "regression1 <- lm(wages ~ immstat, data = census_data)\n",
    "\n",
    "regression2 <- lm(wages ~ immstat + sex + mrkinc, data = census_data)\n",
    "\n",
    "regression3 <- lm(wages ~ immstat + sex + immstat:sex + mrkinc, data = census_data)\n",
    "\n",
    "regression4 <- lm(wages ~ immstat + sex + mrkinc + I(mrkinc^2), data = census_data)\n",
    "\n",
    "regression2$coefficients\n",
    "\n",
    "mean(regression2$residuals)\n",
    "\n",
    "summary(regression3)"
   ]
  },
  {
   "cell_type": "markdown",
   "metadata": {},
   "source": [
    "Regressions in R use *models*, which are a special data structure:\n",
    "\n",
    "* ``y ~ x1 + x2`` defines a multiple regression model with two variables\n",
    "* Qualitative (factor) variables are automatically expanded into a set of dummies\n",
    "* Interactions can be created using the ``:`` or ``*`` operators\n",
    "  * You cannot interact non-factors; using ``I()`` and a function instead\n",
    "  \n",
    "All regressions in R create a model output (e.g. ``regression1``) object, which contains a large number of important elements of the regression, including residuals.\n",
    "* The ``summary()`` command works on these objects to create tables of results\n",
    "* ``regression1$coefficients`` gives the coefficients\n",
    "* ``regression1$residuals`` gives the residuals"
   ]
  },
  {
   "cell_type": "code",
   "execution_count": 31,
   "metadata": {},
   "outputs": [
    {
     "data": {
      "text/html": [
       "<dl class=dl-horizontal>\n",
       "\t<dt>immstat</dt>\n",
       "\t\t<dd>2.07768622695602</dd>\n",
       "\t<dt>sex</dt>\n",
       "\t\t<dd>1.31887620195063</dd>\n",
       "\t<dt>mrkinc</dt>\n",
       "\t\t<dd>1.02264481318162</dd>\n",
       "\t<dt>immstat:sex</dt>\n",
       "\t\t<dd>2.37588047478229</dd>\n",
       "</dl>\n"
      ],
      "text/latex": [
       "\\begin{description*}\n",
       "\\item[immstat] 2.07768622695602\n",
       "\\item[sex] 1.31887620195063\n",
       "\\item[mrkinc] 1.02264481318162\n",
       "\\item[immstat:sex] 2.37588047478229\n",
       "\\end{description*}\n"
      ],
      "text/markdown": [
       "immstat\n",
       ":   2.07768622695602sex\n",
       ":   1.31887620195063mrkinc\n",
       ":   1.02264481318162immstat:sex\n",
       ":   2.37588047478229\n",
       "\n"
      ],
      "text/plain": [
       "    immstat         sex      mrkinc immstat:sex \n",
       "   2.077686    1.318876    1.022645    2.375880 "
      ]
     },
     "metadata": {},
     "output_type": "display_data"
    },
    {
     "data": {
      "text/plain": [
       "\n",
       "Call:\n",
       "lm(formula = resid_sq ~ mrkinc, data = census_data)\n",
       "\n",
       "Residuals:\n",
       "       Min         1Q     Median         3Q        Max \n",
       "-1.082e+11 -1.670e+09  4.827e+08  2.182e+09  1.107e+12 \n",
       "\n",
       "Coefficients:\n",
       "              Estimate Std. Error t value Pr(>|t|)    \n",
       "(Intercept) -3.980e+09  2.641e+07  -150.7   <2e-16 ***\n",
       "mrkinc       7.958e+04  2.549e+02   312.2   <2e-16 ***\n",
       "---\n",
       "Signif. codes:  0 '***' 0.001 '**' 0.01 '*' 0.05 '.' 0.1 ' ' 1\n",
       "\n",
       "Residual standard error: 1.253e+10 on 343061 degrees of freedom\n",
       "Multiple R-squared:  0.2212,\tAdjusted R-squared:  0.2212 \n",
       "F-statistic: 9.744e+04 on 1 and 343061 DF,  p-value: < 2.2e-16\n"
      ]
     },
     "metadata": {},
     "output_type": "display_data"
    },
    {
     "data": {
      "text/plain": [
       "\n",
       "t test of coefficients:\n",
       "\n",
       "                     Estimate  Std. Error  t value  Pr(>|t|)    \n",
       "(Intercept)        1.1142e+04  2.8303e+02  39.3671 < 2.2e-16 ***\n",
       "immstatimmigrants -3.2412e+02  9.7565e+01  -3.3221 0.0008934 ***\n",
       "sexmale            4.1995e+03  1.1952e+02  35.1361 < 2.2e-16 ***\n",
       "mrkinc             6.7810e-01  5.8465e-03 115.9842 < 2.2e-16 ***\n",
       "---\n",
       "Signif. codes:  0 '***' 0.001 '**' 0.01 '*' 0.05 '.' 0.1 ' ' 1\n"
      ]
     },
     "metadata": {},
     "output_type": "display_data"
    }
   ],
   "source": [
    "# post-regression and tests\n",
    "\n",
    "#fitted values\n",
    "fitted_values <- predict(regression1, census_data)\n",
    "\n",
    "#vif test\n",
    "vif(regression3)\n",
    "\n",
    "# bp test\n",
    "regression5 <- lm(wages ~ mrkinc, data = census_data)\n",
    "\n",
    "census_data$resid_sq <- (regression6$residuals)^2\n",
    "\n",
    "bp <- lm(resid_sq ~ mrkinc, data = census_data)\n",
    "\n",
    "summary(bp)\n",
    "\n",
    "\n",
    "# hc errors\n",
    "coeftest(regression2, vcov = vcovHC(regression3, type = \"HC1\"))"
   ]
  },
  {
   "cell_type": "markdown",
   "metadata": {},
   "source": [
    "Most post-estimation tests or commands using use the model:\n",
    "* ``vif`` performs the variance inflation test\n",
    "* The ``bp`` test or ``white`` test can be performed directly by taking the resiudals and performing a regression\n",
    "* You can construct heteroskedasticity robust results with ``coeftest`` and the ``vcov`` function, with the appropriate option (``\"HC1\"`` is typical in econometrics)\n",
    "  * This produces a test object, for just the coefficients in question\n",
    "* This kind of correction is required for linear probability models"
   ]
  },
  {
   "cell_type": "markdown",
   "metadata": {},
   "source": [
    "# Part 4: Stargazer (optional)\n",
    "\n",
    "* Hlavac, Marek (2018). stargazer: Well-Formatted Regression and Summary Statistics Tables.\n",
    " R package version 5.2.2. https://CRAN.R-project.org/package=stargazer "
   ]
  },
  {
   "cell_type": "code",
   "execution_count": 15,
   "metadata": {},
   "outputs": [
    {
     "name": "stderr",
     "output_type": "stream",
     "text": [
      "\n",
      "Please cite as: \n",
      "\n",
      " Hlavac, Marek (2018). stargazer: Well-Formatted Regression and Summary Statistics Tables.\n",
      " R package version 5.2.2. https://CRAN.R-project.org/package=stargazer \n",
      "\n"
     ]
    }
   ],
   "source": [
    "library(\"stargazer\") #might not run on your PC"
   ]
  },
  {
   "cell_type": "code",
   "execution_count": 16,
   "metadata": {},
   "outputs": [
    {
     "name": "stdout",
     "output_type": "stream",
     "text": [
      "\n",
      "Comparison of Controls\n",
      "================================================================================\n",
      "                                           Dependent variable:                  \n",
      "                          ------------------------------------------------------\n",
      "                                                  wages                         \n",
      "                               (1)           (2)           (3)          (4)     \n",
      "--------------------------------------------------------------------------------\n",
      "immstatimmigrants         -2,552.883***  -324.124***     74.484        -1.894   \n",
      "                            (261.557)     (119.061)     (171.589)    (115.718)  \n",
      "                                                                                \n",
      "sexmale                                 4,199.514***  4,375.083***  2,761.741***\n",
      "                                          (101.042)     (114.766)     (98.704)  \n",
      "                                                                                \n",
      "mrkinc                                    0.678***      0.678***      0.815***  \n",
      "                                           (0.001)       (0.001)      (0.001)   \n",
      "                                                                                \n",
      "immstatimmigrants:sexmale                              -768.622***              \n",
      "                                                        (238.260)               \n",
      "                                                                                \n",
      "I(mrkinc2)                                                          -0.00000*** \n",
      "                                                                      (0.000)   \n",
      "                                                                                \n",
      "Constant                  55,064.400*** 11,142.260*** 11,052.700*** 5,246.980***\n",
      "                            (124.873)     (82.184)      (86.744)      (89.967)  \n",
      "                                                                                \n",
      "--------------------------------------------------------------------------------\n",
      "Observations                 343,063       343,063       343,063      343,063   \n",
      "R2                           0.0003         0.793         0.793        0.804    \n",
      "================================================================================\n",
      "Note:                                                *p<0.1; **p<0.05; ***p<0.01\n"
     ]
    }
   ],
   "source": [
    "stargazer(regression1, regression2, regression3, regression4, title=\"Comparison of Controls\",\n",
    "          align = TRUE, type=\"text\", keep.stat = c(\"n\",\"rsq\"))"
   ]
  },
  {
   "cell_type": "markdown",
   "metadata": {},
   "source": [
    "You can format and display tables of regression output using the ``stargazer`` command.  It takes in a list of models, and then some formatting options.  \n",
    "* See the documentation for more details."
   ]
  },
  {
   "cell_type": "code",
   "execution_count": null,
   "metadata": {},
   "outputs": [],
   "source": []
  }
 ],
 "metadata": {
  "kernelspec": {
   "display_name": "R",
   "language": "R",
   "name": "ir"
  },
  "language_info": {
   "codemirror_mode": "r",
   "file_extension": ".r",
   "mimetype": "text/x-r-source",
   "name": "R",
   "pygments_lexer": "r",
   "version": "3.6.1"
  }
 },
 "nbformat": 4,
 "nbformat_minor": 4
}
